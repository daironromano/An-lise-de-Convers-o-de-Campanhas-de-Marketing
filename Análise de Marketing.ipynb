{
 "cells": [
  {
   "cell_type": "code",
   "execution_count": 28,
   "metadata": {},
   "outputs": [
    {
     "name": "stdout",
     "output_type": "stream",
     "text": [
      "Taxa de Conversão por Canal:\n",
      "- E-mail: 8.00%\n",
      "- Redes Sociais: 6.00%\n",
      "- Anúncios Pagos: 6.00%\n",
      "- SEO: 4.00%\n",
      "- YouTube Ads: 5.00%\n",
      "- Google Ads: 6.360%\n",
      "- TikTok Ads: 5.00%\n",
      "- Influenciadores: 3.00%\n",
      "- Blog: 4.00%\n",
      "- LinkedIn Ads: 5.00%\n",
      "- WhatsApp Marketing: 7.00%\n",
      "- SMS Marketing: 6.00%\n",
      "- Eventos: 12.50%\n",
      "Canal com menor taxa de conversão: Influenciadores (3.00%)\n",
      "Canal com maior taxa de conversão: Eventos (12.50%)\n"
     ]
    }
   ],
   "source": [
    "#Parte 1\n",
    "\n",
    "#Dados coletados \n",
    "dados_marketing = {\n",
    "    \"E-mail\": {\"visitas\": 5000, \"conversoes\": 400},\n",
    "    \"Redes Sociais\": {\"visitas\": 8000, \"conversoes\": 480},\n",
    "    \"Anúncios Pagos\": {\"visitas\": 12000, \"conversoes\": 720},\n",
    "    \"SEO\": {\"visitas\": 15000, \"conversoes\": 600},\n",
    "    \"YouTube Ads\": {\"visitas\": 9000, \"conversoes\": 450},\n",
    "    \"Google Ads\": {\"visitas\": 11000, \"conversoes\": 700},\n",
    "    \"TikTok Ads\": {\"visitas\": 7000, \"conversoes\": 350},\n",
    "    \"Influenciadores\": {\"visitas\": 10000, \"conversoes\": 300},\n",
    "    \"Blog\": {\"visitas\": 14000, \"conversoes\": 560},\n",
    "    \"LinkedIn Ads\": {\"visitas\": 6000, \"conversoes\": 300},\n",
    "    \"WhatsApp Marketing\": {\"visitas\": 4000, \"conversoes\": 280},\n",
    "    \"SMS Marketing\": {\"visitas\": 3000, \"conversoes\": 180},\n",
    "    \"Eventos\": {\"visitas\": 2000, \"conversoes\": 250}\n",
    "}\n",
    "\n",
    "print(\"Taxa de Conversão por Canal:\")\n",
    "#Criando lista vazia \n",
    "lista_dicionario = []\n",
    "\n",
    "#Laço for para calcular a taxa de conversão por canal\n",
    "for dado, item in dados_marketing.items():\n",
    "    visitas = item['visitas'] #variável que armazena o valor de visitas\n",
    "    conversoes = item['conversoes'] #variável que armazena o valor de conversões\n",
    "    taxas = round((conversoes/visitas)*100, 2) #variável que armazena o cálculo da taxa \n",
    "    print(f\"- {dado}: {taxas}0%\") #saída de dados coletados formatado\n",
    "    #Criando lista com valores das taxas\n",
    "    lista_dicionario.append({\"nome\": dado, \"taxa\": taxas}) #lista de dicionário com valores do laço\n",
    "\n",
    "#Iteração para percorrer automaticamente a lista de dicionário\n",
    "for valor_dicionario in lista_dicionario:\n",
    "    if valor_dicionario[\"taxa\"] < 4: #Condição para saber canal com menor taxa\n",
    "        print(f\"Canal com menor taxa de conversão: {valor_dicionario['nome']} ({valor_dicionario['taxa']}0%)\")\n",
    "    if valor_dicionario[\"taxa\"] > 10: #Condição para saber canal com maior taxa\n",
    "        print(f\"Canal com maior taxa de conversão: {valor_dicionario['nome']} ({valor_dicionario['taxa']}0%)\")\n",
    "    "
   ]
  },
  {
   "cell_type": "code",
   "execution_count": 39,
   "metadata": {},
   "outputs": [
    {
     "name": "stdout",
     "output_type": "stream",
     "text": [
      "Classificação dos canais:\n",
      "- E-mail: Bom\n",
      "- Redes Sociais: Bom\n",
      "- Anúncios Pagos: Bom\n",
      "- SEO: Precisa Melhorar\n",
      "- YouTube Ads: Bom\n",
      "- Google Ads: Bom\n",
      "- TikTok Ads: Bom\n",
      "- Influenciadores: Precisa Melhorar\n",
      "- Blog: Precisa Melhorar\n",
      "- LinkedIn Ads: Bom\n",
      "- WhatsApp Marketing: Bom\n",
      "- SMS Marketing: Bom\n",
      "- Eventos: Excelente\n"
     ]
    }
   ],
   "source": [
    "#Parte 2:\n",
    "\n",
    "#Classificação dos canais\n",
    "print(\"Classificação dos canais:\")\n",
    "#Iteração para percorrer lista de dicionário\n",
    "for class_canal in lista_dicionario:\n",
    "    #Condição para classificar canais execelentes\n",
    "    if class_canal['taxa'] > 10:  \n",
    "        canal_exc = class_canal['nome']\n",
    "        print(f\"- {canal_exc}: Excelente\")\n",
    "    #Condição para classificar canais bons\n",
    "    if class_canal['taxa'] >= 5 and class_canal['taxa'] <= 10: \n",
    "        canal_bom = class_canal['nome']\n",
    "        print(f\"- {canal_bom}: Bom\")\n",
    "    #Condição para classificar canais que precisam melhorar\n",
    "    if class_canal['taxa'] < 5:\n",
    "        canal_melhorar = class_canal['nome']\n",
    "        print(f\"- {canal_melhorar}: Precisa Melhorar\")"
   ]
  },
  {
   "cell_type": "code",
   "execution_count": 45,
   "metadata": {},
   "outputs": [
    {
     "name": "stdout",
     "output_type": "stream",
     "text": [
      "Resumo Final:\n",
      "- Excelente: 1\n",
      "- Bom: 9\n",
      "- Precisa Melhorar: 3\n"
     ]
    }
   ],
   "source": [
    "#Parte 3\n",
    "#Quantidade de canais por categoria: execelente, bom, melhorar\n",
    "print(\"Resumo Final:\")\n",
    "excelente = 0\n",
    "bom = 0\n",
    "precisa_melhorar = 0\n",
    "\n",
    "#Interação para percorrer a lista de dicionário\n",
    "for qntd in lista_dicionario: \n",
    "    if qntd['taxa'] > 10: #Condição para saber quantidade de canais excelentes\n",
    "        excelente = excelente + 1\n",
    "    if qntd['taxa'] >= 5 and qntd['taxa'] <= 10: #Condição para saber quantidade de canais bons\n",
    "        bom = bom + 1\n",
    "    if qntd['taxa'] < 5: #Condição para saber quantidade de canais que precisam melhorar\n",
    "        precisa_melhorar = precisa_melhorar + 1\n",
    "\n",
    "print(f\"- Excelente: {excelente}\")\n",
    "print(f\"- Bom: {bom}\")\n",
    "print(f\"- Precisa Melhorar: {precisa_melhorar}\")"
   ]
  }
 ],
 "metadata": {
  "kernelspec": {
   "display_name": "base",
   "language": "python",
   "name": "python3"
  },
  "language_info": {
   "codemirror_mode": {
    "name": "ipython",
    "version": 3
   },
   "file_extension": ".py",
   "mimetype": "text/x-python",
   "name": "python",
   "nbconvert_exporter": "python",
   "pygments_lexer": "ipython3",
   "version": "3.12.7"
  }
 },
 "nbformat": 4,
 "nbformat_minor": 2
}
